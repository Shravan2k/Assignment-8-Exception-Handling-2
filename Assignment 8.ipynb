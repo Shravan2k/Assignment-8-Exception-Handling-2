{
 "cells": [
  {
   "cell_type": "markdown",
   "id": "2efaf356",
   "metadata": {},
   "source": [
    "# Q1. Explain why we have to use the Exception class while creating a Custom Exception."
   ]
  },
  {
   "cell_type": "markdown",
   "id": "48c7eb8e",
   "metadata": {},
   "source": [
    "In object-oriented programming, including in languages like Python, custom exceptions can be created by defining new classes that inherit from the base Exception class. The Exception class serves as the parent class or base class for all built-in exceptions in the language, and it provides a standard structure and behavior for handling and propagating exceptions.\n",
    "There are a few reasons why we use the Exception class as the base class for custom exceptions:\n",
    "1. Consistency and familiarity: By inheriting from the Exception class, custom exceptions follow the same structure and behavior as built-in exceptions in the language. This consistency makes it easier for developers to understand and work with custom exceptions, as they can leverage their existing knowledge and experience with handling exceptions.\n",
    "2. Standard exception handling: The Exception class provides a set of methods and attributes that are commonly used for exception handling. For example, custom exceptions can utilize the try-except block to catch and handle specific exceptions, and they can access attributes like the error message associated with the exception. By inheriting from the Exception class, custom exceptions automatically inherit these features, making it simpler to handle and process them consistently.\n",
    "3. Exception hierarchy and organization: The Exception class establishes a hierarchy of exceptions, with more specific exceptions inheriting from more general ones. This hierarchy allows for better organization and categorization of exceptions based on their types and behaviors. By creating custom exceptions that inherit from the Exception class, we can place them in the appropriate part of the exception hierarchy, making it easier to identify and handle different types of exceptions based on their relationships.\n",
    "4. Interoperability and compatibility: By using the Exception class as the base class for custom exceptions, we ensure compatibility and interoperability with other code and libraries that expect exceptions to follow the standard exception hierarchy. This allows custom exceptions to be seamlessly integrated into existing exception handling mechanisms and frameworks.\n",
    "By using the Exception class as the base class for custom exceptions provides consistency, standard exception handling mechanisms, a hierarchical organization of exceptions, and compatibility with existing code. It promotes good software design and facilitates effective exception handling in the language."
   ]
  },
  {
   "cell_type": "code",
   "execution_count": null,
   "id": "04edad3d",
   "metadata": {},
   "outputs": [],
   "source": []
  },
  {
   "cell_type": "markdown",
   "id": "4d8b654f",
   "metadata": {},
   "source": [
    "# Q2. Write a python program to print Python Exception Hierarchy."
   ]
  },
  {
   "cell_type": "code",
   "execution_count": 2,
   "id": "0f73860f",
   "metadata": {},
   "outputs": [
    {
     "name": "stdout",
     "output_type": "stream",
     "text": [
      "Hierarchy for Built-in exceptions is : \n",
      " BaseException\n",
      "--- BaseExceptionGroup\n",
      "------ ExceptionGroup\n",
      "--- Exception\n",
      "------ ArithmeticError\n",
      "--------- FloatingPointError\n",
      "--------- OverflowError\n",
      "--------- ZeroDivisionError\n",
      "------------ DivisionByZero\n",
      "------------ DivisionUndefined\n",
      "--------- DecimalException\n",
      "------------ Clamped\n",
      "------------ Rounded\n",
      "--------------- Underflow\n",
      "--------------- Overflow\n",
      "------------ Inexact\n",
      "--------------- Underflow\n",
      "--------------- Overflow\n",
      "------------ Subnormal\n",
      "--------------- Underflow\n",
      "------------ DivisionByZero\n",
      "------------ FloatOperation\n",
      "------------ InvalidOperation\n",
      "--------------- ConversionSyntax\n",
      "--------------- DivisionImpossible\n",
      "--------------- DivisionUndefined\n",
      "--------------- InvalidContext\n",
      "------ AssertionError\n",
      "------ AttributeError\n",
      "--------- FrozenInstanceError\n",
      "------ BufferError\n",
      "------ EOFError\n",
      "--------- IncompleteReadError\n",
      "------ ImportError\n",
      "--------- ModuleNotFoundError\n",
      "--------- ZipImportError\n",
      "------ LookupError\n",
      "--------- IndexError\n",
      "--------- KeyError\n",
      "------------ NoSuchKernel\n",
      "------------ UnknownBackend\n",
      "--------- CodecRegistryError\n",
      "------ MemoryError\n",
      "------ NameError\n",
      "--------- UnboundLocalError\n",
      "------ OSError\n",
      "--------- BlockingIOError\n",
      "--------- ChildProcessError\n",
      "--------- ConnectionError\n",
      "------------ BrokenPipeError\n",
      "------------ ConnectionAbortedError\n",
      "------------ ConnectionRefusedError\n",
      "------------ ConnectionResetError\n",
      "--------------- RemoteDisconnected\n",
      "--------- FileExistsError\n",
      "--------- FileNotFoundError\n",
      "--------- InterruptedError\n",
      "------------ InterruptedSystemCall\n",
      "--------- IsADirectoryError\n",
      "--------- NotADirectoryError\n",
      "--------- PermissionError\n",
      "--------- ProcessLookupError\n",
      "--------- TimeoutError\n",
      "--------- UnsupportedOperation\n",
      "--------- herror\n",
      "--------- gaierror\n",
      "--------- SSLError\n",
      "------------ SSLCertVerificationError\n",
      "------------ SSLZeroReturnError\n",
      "------------ SSLWantWriteError\n",
      "------------ SSLWantReadError\n",
      "------------ SSLSyscallError\n",
      "------------ SSLEOFError\n",
      "--------- Error\n",
      "------------ SameFileError\n",
      "--------- SpecialFileError\n",
      "--------- ExecError\n",
      "--------- ReadError\n",
      "--------- URLError\n",
      "------------ HTTPError\n",
      "------------ ContentTooShortError\n",
      "--------- BadGzipFile\n",
      "------ ReferenceError\n",
      "------ RuntimeError\n",
      "--------- NotImplementedError\n",
      "------------ ZMQVersionError\n",
      "------------ StdinNotImplementedError\n",
      "--------- RecursionError\n",
      "--------- _DeadlockError\n",
      "--------- BrokenBarrierError\n",
      "--------- BrokenExecutor\n",
      "------------ BrokenThreadPool\n",
      "--------- SendfileNotAvailableError\n",
      "--------- BrokenBarrierError\n",
      "--------- ExtractionError\n",
      "--------- VariableError\n",
      "------ StopAsyncIteration\n",
      "------ StopIteration\n",
      "------ SyntaxError\n",
      "--------- IndentationError\n",
      "------------ TabError\n",
      "------ SystemError\n",
      "--------- CodecRegistryError\n",
      "------ TypeError\n",
      "--------- FloatOperation\n",
      "--------- MultipartConversionError\n",
      "------ ValueError\n",
      "--------- UnicodeError\n",
      "------------ UnicodeDecodeError\n",
      "------------ UnicodeEncodeError\n",
      "------------ UnicodeTranslateError\n",
      "--------- UnsupportedOperation\n",
      "--------- JSONDecodeError\n",
      "--------- SSLCertVerificationError\n",
      "--------- Error\n",
      "--------- UnsupportedDigestmodError\n",
      "--------- AddressValueError\n",
      "--------- NetmaskValueError\n",
      "--------- IllegalMonthError\n",
      "--------- IllegalWeekdayError\n",
      "--------- ParserError\n",
      "--------- ClassNotFound\n",
      "--------- ClipboardEmpty\n",
      "--------- MessageDefect\n",
      "------------ NoBoundaryInMultipartDefect\n",
      "------------ StartBoundaryNotFoundDefect\n",
      "------------ CloseBoundaryNotFoundDefect\n",
      "------------ FirstHeaderLineIsContinuationDefect\n",
      "------------ MisplacedEnvelopeHeaderDefect\n",
      "------------ MissingHeaderBodySeparatorDefect\n",
      "------------ MultipartInvariantViolationDefect\n",
      "------------ InvalidMultipartContentTransferEncodingDefect\n",
      "------------ UndecodableBytesDefect\n",
      "------------ InvalidBase64PaddingDefect\n",
      "------------ InvalidBase64CharactersDefect\n",
      "------------ InvalidBase64LengthDefect\n",
      "------------ HeaderDefect\n",
      "--------------- InvalidHeaderDefect\n",
      "--------------- HeaderMissingRequiredValue\n",
      "--------------- NonPrintableDefect\n",
      "--------------- ObsoleteHeaderDefect\n",
      "--------------- NonASCIILocalPartDefect\n",
      "--------------- InvalidDateDefect\n",
      "--------- MacroToEdit\n",
      "--------- InvalidFileException\n",
      "--------- UnequalIterablesError\n",
      "--------- InvalidVersion\n",
      "--------- ELFInvalid\n",
      "--------- InvalidWheelFilename\n",
      "--------- InvalidSdistFilename\n",
      "--------- InvalidSpecifier\n",
      "--------- InvalidMarker\n",
      "--------- UndefinedComparison\n",
      "--------- UndefinedEnvironmentName\n",
      "--------- InvalidRequirement\n",
      "------------ RequirementParseError\n",
      "--------- InvalidVersion\n",
      "------ Warning\n",
      "--------- BytesWarning\n",
      "--------- DeprecationWarning\n",
      "------------ ProvisionalWarning\n",
      "--------- EncodingWarning\n",
      "--------- FutureWarning\n",
      "------------ ProvisionalCompleterWarning\n",
      "--------- ImportWarning\n",
      "--------- PendingDeprecationWarning\n",
      "--------- ResourceWarning\n",
      "--------- RuntimeWarning\n",
      "------------ ProactorSelectorThreadWarning\n",
      "------------ UnknownTimezoneWarning\n",
      "------------ PEP440Warning\n",
      "--------- SyntaxWarning\n",
      "--------- UnicodeWarning\n",
      "--------- UserWarning\n",
      "------------ GetPassWarning\n",
      "------------ FormatterWarning\n",
      "--------- DeprecatedTzFormatWarning\n",
      "--------- PkgResourcesDeprecationWarning\n",
      "------ ExceptionGroup\n",
      "------ _OptionError\n",
      "------ _Error\n",
      "------ error\n",
      "------ Error\n",
      "------ SubprocessError\n",
      "--------- CalledProcessError\n",
      "--------- TimeoutExpired\n",
      "------ TokenError\n",
      "------ StopTokenizing\n",
      "------ ClassFoundException\n",
      "------ EndOfBlock\n",
      "------ TraitError\n",
      "------ Error\n",
      "------ Error\n",
      "--------- CancelledError\n",
      "--------- InvalidStateError\n",
      "------ _GiveupOnSendfile\n",
      "------ error\n",
      "------ Incomplete\n",
      "------ InvalidStateError\n",
      "------ LimitOverrunError\n",
      "------ QueueEmpty\n",
      "------ QueueFull\n",
      "------ error\n",
      "------ LZMAError\n",
      "------ RegistryError\n",
      "------ _GiveupOnFastCopy\n",
      "------ Empty\n",
      "------ Full\n",
      "------ ZMQBaseError\n",
      "--------- ZMQError\n",
      "------------ ContextTerminated\n",
      "------------ Again\n",
      "------------ InterruptedSystemCall\n",
      "--------- ZMQBindError\n",
      "--------- NotDone\n",
      "------ PickleError\n",
      "--------- PicklingError\n",
      "--------- UnpicklingError\n",
      "------ _Stop\n",
      "------ ArgumentError\n",
      "------ COMError\n",
      "------ ReturnValueIgnoredError\n",
      "------ ArgumentError\n",
      "------ ArgumentTypeError\n",
      "------ ConfigError\n",
      "--------- ConfigLoaderError\n",
      "------------ ArgumentError\n",
      "--------- ConfigFileNotFound\n",
      "------ ConfigurableError\n",
      "--------- MultipleInstanceError\n",
      "------ ApplicationError\n",
      "------ KeyReuseError\n",
      "------ UnknownKeyError\n",
      "------ LeakedCallbackError\n",
      "------ BadYieldError\n",
      "------ ReturnValueIgnoredError\n",
      "------ Return\n",
      "------ InvalidPortNumber\n",
      "------ NoIPAddresses\n",
      "------ BadZipFile\n",
      "------ LargeZipFile\n",
      "------ Error\n",
      "--------- NoSectionError\n",
      "--------- DuplicateSectionError\n",
      "--------- DuplicateOptionError\n",
      "--------- NoOptionError\n",
      "--------- InterpolationError\n",
      "------------ InterpolationMissingOptionError\n",
      "------------ InterpolationSyntaxError\n",
      "------------ InterpolationDepthError\n",
      "--------- ParsingError\n",
      "------------ MissingSectionHeaderError\n",
      "------ BadEntryPoint\n",
      "------ NoSuchEntryPoint\n",
      "------ DuplicateKernelError\n",
      "------ ErrorDuringImport\n",
      "------ NotOneValueFound\n",
      "------ CannotEval\n",
      "------ OptionError\n",
      "------ BdbQuit\n",
      "------ Restart\n",
      "------ FindCmdError\n",
      "------ HomeDirError\n",
      "------ ProfileDirError\n",
      "------ IPythonCoreError\n",
      "--------- TryNext\n",
      "--------- UsageError\n",
      "--------- StdinNotImplementedError\n",
      "------ InputRejected\n",
      "------ GetoptError\n",
      "------ ErrorToken\n",
      "------ PrefilterError\n",
      "------ AliasError\n",
      "--------- InvalidAliasError\n",
      "------ Error\n",
      "--------- InterfaceError\n",
      "--------- DatabaseError\n",
      "------------ InternalError\n",
      "------------ OperationalError\n",
      "------------ ProgrammingError\n",
      "------------ IntegrityError\n",
      "------------ DataError\n",
      "------------ NotSupportedError\n",
      "------ Warning\n",
      "------ SpaceInInput\n",
      "------ DOMException\n",
      "--------- IndexSizeErr\n",
      "--------- DomstringSizeErr\n",
      "--------- HierarchyRequestErr\n",
      "--------- WrongDocumentErr\n",
      "--------- InvalidCharacterErr\n",
      "--------- NoDataAllowedErr\n",
      "--------- NoModificationAllowedErr\n",
      "--------- NotFoundErr\n",
      "--------- NotSupportedErr\n",
      "--------- InuseAttributeErr\n",
      "--------- InvalidStateErr\n",
      "--------- SyntaxErr\n",
      "--------- InvalidModificationErr\n",
      "--------- NamespaceErr\n",
      "--------- InvalidAccessErr\n",
      "--------- ValidationErr\n",
      "------ ValidationError\n",
      "------ EditReadOnlyBuffer\n",
      "------ _Retry\n",
      "------ InvalidLayoutError\n",
      "------ HeightIsUnknownError\n",
      "------ GuardRejection\n",
      "------ ParserSyntaxError\n",
      "------ InternalParseError\n",
      "------ _PositionUpdatingFinished\n",
      "------ SimpleGetItemNotFound\n",
      "------ UncaughtAttributeError\n",
      "------ HasNoContext\n",
      "------ ParamIssue\n",
      "------ _JediError\n",
      "--------- InternalError\n",
      "--------- WrongVersion\n",
      "--------- RefactoringError\n",
      "------ OnErrorLeaf\n",
      "------ InvalidPythonEnvironment\n",
      "------ MessageError\n",
      "--------- MessageParseError\n",
      "------------ HeaderParseError\n",
      "------------ BoundaryError\n",
      "--------- MultipartConversionError\n",
      "--------- CharsetError\n",
      "------ HTTPException\n",
      "--------- NotConnected\n",
      "--------- InvalidURL\n",
      "--------- UnknownProtocol\n",
      "--------- UnknownTransferEncoding\n",
      "--------- UnimplementedFileMode\n",
      "--------- IncompleteRead\n",
      "--------- ImproperConnectionState\n",
      "------------ CannotSendRequest\n",
      "------------ CannotSendHeader\n",
      "------------ ResponseNotReady\n",
      "--------- BadStatusLine\n",
      "------------ RemoteDisconnected\n",
      "--------- LineTooLong\n",
      "------ InteractivelyDefined\n",
      "------ KillEmbedded\n",
      "------ Error\n",
      "--------- NoSuchProcess\n",
      "------------ ZombieProcess\n",
      "--------- AccessDenied\n",
      "--------- TimeoutExpired\n",
      "------ Error\n",
      "------ TimeoutExpired\n",
      "------ TimeoutAbandoned\n",
      "------ QueueEmpty\n",
      "------ QueueFull\n",
      "------ DebuggerInitializationError\n",
      "------ ExpatError\n",
      "------ Error\n",
      "--------- ProtocolError\n",
      "--------- ResponseError\n",
      "--------- Fault\n",
      "------ ParserSyntaxError\n",
      "------ ResolutionError\n",
      "--------- VersionConflict\n",
      "------------ ContextualVersionConflict\n",
      "--------- DistributionNotFound\n",
      "--------- UnknownExtra\n",
      "------ _Error\n",
      "------ UnableToResolveVariableException\n",
      "------ InvalidTypeInArgsException\n",
      "--- GeneratorExit\n",
      "--- KeyboardInterrupt\n",
      "--- SystemExit\n",
      "--- CancelledError\n",
      "--- AbortThread\n"
     ]
    }
   ],
   "source": [
    "import inspect\n",
    "\n",
    "def treeClass(cls, ind = 0):\n",
    "\n",
    "    print ('-' * ind, cls.__name__)\n",
    "\n",
    "    for i in cls.__subclasses__():\n",
    "        treeClass(i, ind + 3)\n",
    "\n",
    "print(\"Hierarchy for Built-in exceptions is : \")\n",
    "\n",
    "\n",
    "inspect.getclasstree(inspect.getmro(BaseException))\n",
    "\n",
    "treeClass(BaseException)"
   ]
  },
  {
   "cell_type": "code",
   "execution_count": null,
   "id": "f76c1ddc",
   "metadata": {},
   "outputs": [],
   "source": []
  },
  {
   "cell_type": "markdown",
   "id": "00805a01",
   "metadata": {},
   "source": [
    "# Q3. What errors are defined in the ArithmeticError class? Explain any two with an example."
   ]
  },
  {
   "cell_type": "markdown",
   "id": "de77281b",
   "metadata": {},
   "source": [
    "Arithmentic Error is the error that occurs during numeric calculations\n",
    "\n",
    "OverFlowError\n",
    "\n",
    "ZeroDivisionError\n",
    "\n",
    "FloatingPointError"
   ]
  },
  {
   "cell_type": "code",
   "execution_count": 3,
   "id": "4c295bb4",
   "metadata": {},
   "outputs": [
    {
     "name": "stdout",
     "output_type": "stream",
     "text": [
      "(34, 'Result too large'), <class 'OverflowError'>\n"
     ]
    }
   ],
   "source": [
    "#OverFlowError\n",
    "j = 5.0\n",
    "\n",
    "try:\n",
    "    for i in range(1, 1000):\n",
    "        j = j**i\n",
    "except ArithmeticError as e:\n",
    "    print(f\"{e}, {e.__class__}\")"
   ]
  },
  {
   "cell_type": "code",
   "execution_count": 4,
   "id": "f9430386",
   "metadata": {},
   "outputs": [
    {
     "name": "stdout",
     "output_type": "stream",
     "text": [
      "division by zero, <class 'ZeroDivisionError'>\n"
     ]
    }
   ],
   "source": [
    "#ZeroDivisionError\n",
    "try:\n",
    "    1/0\n",
    "except ArithmeticError as e:\n",
    "    print(f\"{e}, {e.__class__}\")"
   ]
  },
  {
   "cell_type": "code",
   "execution_count": null,
   "id": "fade6c6c",
   "metadata": {},
   "outputs": [],
   "source": []
  },
  {
   "cell_type": "markdown",
   "id": "c5bd4768",
   "metadata": {},
   "source": [
    "# Q4. Why LookupError class is used? Explain with an example KeyError and IndexError."
   ]
  },
  {
   "cell_type": "code",
   "execution_count": 5,
   "id": "376d8dea",
   "metadata": {},
   "outputs": [
    {
     "name": "stdout",
     "output_type": "stream",
     "text": [
      "What info do you want of student address\n",
      "'address', <class 'KeyError'>\n"
     ]
    }
   ],
   "source": [
    "#KeyError\n",
    "student_info = {'name': 'Shravankumaf',\n",
    "                'age': 20,\n",
    "                'phone_no': 7058400458}\n",
    "user_input = input('What info do you want of student ')\n",
    "\n",
    "try:\n",
    "    print(f'{user_input} is {student_info[user_input]}')\n",
    "except LookupError as e:\n",
    "    print(f'{e}, {e.__class__}')"
   ]
  },
  {
   "cell_type": "code",
   "execution_count": 6,
   "id": "572b3371",
   "metadata": {},
   "outputs": [
    {
     "name": "stdout",
     "output_type": "stream",
     "text": [
      "list index out of range, <class 'IndexError'>\n"
     ]
    }
   ],
   "source": [
    "#IndexError\n",
    "x = [1, 2, 3, 4]\n",
    "try:\n",
    "    print(x[6])\n",
    "except LookupError as e:\n",
    "    print(f\"{e}, {e.__class__}\")"
   ]
  },
  {
   "cell_type": "markdown",
   "id": "a4718d6f",
   "metadata": {},
   "source": [
    "# Q5. Explain ImportError. What is ModuleNotFoundError?"
   ]
  },
  {
   "cell_type": "markdown",
   "id": "f0df494f",
   "metadata": {},
   "source": [
    "he import statement encounters an issue because the specified module does not exist. The difference lies in the type of exception that is raised: ImportError is a more general exception, while ModuleNotFoundError is a specific exception that inherits from ImportError and includes additional information about the missing module."
   ]
  },
  {
   "cell_type": "code",
   "execution_count": 8,
   "id": "58b154b9",
   "metadata": {},
   "outputs": [
    {
     "name": "stdout",
     "output_type": "stream",
     "text": [
      "Import Error : No module named 'shravankumar'\n"
     ]
    }
   ],
   "source": [
    "try:\n",
    "    import shravankumar\n",
    "except ImportError as e:\n",
    "    print(f\"Import Error : {e}\")"
   ]
  },
  {
   "cell_type": "code",
   "execution_count": 12,
   "id": "b1f2ad84",
   "metadata": {},
   "outputs": [
    {
     "name": "stdout",
     "output_type": "stream",
     "text": [
      "Module Not Found Error : No module named 'ssr'\n"
     ]
    }
   ],
   "source": [
    "try:\n",
    "    from ssr import shravan\n",
    "except ModuleNotFoundError as e:\n",
    "    print(f\"Module Not Found Error : {e}\")"
   ]
  },
  {
   "cell_type": "code",
   "execution_count": null,
   "id": "4f4ed245",
   "metadata": {},
   "outputs": [],
   "source": []
  },
  {
   "cell_type": "markdown",
   "id": "3fdc3ac5",
   "metadata": {},
   "source": [
    "# Q6. List down some best practices for exception handling in python."
   ]
  },
  {
   "cell_type": "markdown",
   "id": "5bbc192d",
   "metadata": {},
   "source": [
    "Always use a specific Exception\n",
    "\n",
    "\n",
    "Print a valid message\n",
    "\n",
    "Always try to log\n",
    "\n",
    "Always try to avoid multiple exception handling\n",
    "\n",
    "prepare a proper documentation"
   ]
  },
  {
   "cell_type": "code",
   "execution_count": 14,
   "id": "80312e98",
   "metadata": {},
   "outputs": [
    {
     "name": "stdout",
     "output_type": "stream",
     "text": [
      "division by zero\n"
     ]
    }
   ],
   "source": [
    "#use always specific exception\n",
    "try:\n",
    "    10/0\n",
    "except ZeroDivisionError as e:\n",
    "    print(e)"
   ]
  },
  {
   "cell_type": "code",
   "execution_count": 15,
   "id": "363c758c",
   "metadata": {},
   "outputs": [
    {
     "name": "stdout",
     "output_type": "stream",
     "text": [
      "This is my Zero division error that i am handling division by zero\n"
     ]
    }
   ],
   "source": [
    "#print always a valid message\n",
    "\n",
    "try:\n",
    "    10/0\n",
    "except ZeroDivisionError as e:\n",
    "    print(\"This is my Zero division error that i am handling\",e)"
   ]
  },
  {
   "cell_type": "code",
   "execution_count": 18,
   "id": "85f9a3eb",
   "metadata": {},
   "outputs": [],
   "source": [
    "#always try to log\n",
    "\n",
    "import logging\n",
    "logging.basicConfig(filename = \"error.log\",level=logging.ERROR ,format = '%(asctime)s %(name)s %(levelname)s %(message)s' )\n",
    "\n",
    "try:\n",
    "    10/0\n",
    "except ZeroDivisionError as e:\n",
    "    logging.error(\"This is my Zero division error that i am handling {} \".format(e))"
   ]
  },
  {
   "cell_type": "code",
   "execution_count": 19,
   "id": "954cee91",
   "metadata": {},
   "outputs": [],
   "source": [
    "#always try to avoid multiple exception handling\n",
    "\n",
    "import logging\n",
    "logging.basicConfig(filename = \"error.log\",level=logging.ERROR ,format = '%(asctime)s %(name)s %(levelname)s %(message)s' )\n",
    "\n",
    "try:\n",
    "    10/0\n",
    "    \n",
    "except FileNotFoundError as e:\n",
    "    logging.error(\"This is my File not found error that i am handling {} \".format(e))\n",
    "\n",
    "except AttributeError as e:\n",
    "    logging.error(\"This is my attribute error that i am handling {} \".format(e))\n",
    "    \n",
    "except ZeroDivisionError as e:\n",
    "    logging.error(\"This is my Zero division error that i am handling {} \".format(e))"
   ]
  },
  {
   "cell_type": "code",
   "execution_count": 20,
   "id": "6cc9fd69",
   "metadata": {},
   "outputs": [],
   "source": [
    "#cleanup all the resources\n",
    "\n",
    "try:\n",
    "    with open(\"test.txt\",'w') as f:\n",
    "        f.write(\"this is my messages to file\")\n",
    "except FileNotFoundError as e:\n",
    "    logging.error(\"This is my File not found error that i am handling {} \".format(e))\n",
    "finally:\n",
    "    f.close()"
   ]
  },
  {
   "cell_type": "code",
   "execution_count": null,
   "id": "7aed0390",
   "metadata": {},
   "outputs": [],
   "source": []
  }
 ],
 "metadata": {
  "kernelspec": {
   "display_name": "Python 3 (ipykernel)",
   "language": "python",
   "name": "python3"
  },
  "language_info": {
   "codemirror_mode": {
    "name": "ipython",
    "version": 3
   },
   "file_extension": ".py",
   "mimetype": "text/x-python",
   "name": "python",
   "nbconvert_exporter": "python",
   "pygments_lexer": "ipython3",
   "version": "3.11.5"
  }
 },
 "nbformat": 4,
 "nbformat_minor": 5
}
